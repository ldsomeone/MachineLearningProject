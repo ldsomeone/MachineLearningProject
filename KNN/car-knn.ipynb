{
 "cells": [
  {
   "cell_type": "markdown",
   "metadata": {},
   "source": [
    "# Machine Learning\n",
    "## KNN\n",
    "<p>The k-nearest neighbors algorithm (KNN) is a supervised machine learning method. It uses proximity to compare one data point with a set of data it was trained on and has memorised to make predictions.\n",
    "In my code below, I aimed to predict whether or not particular cars were acceptable or not. In my code, I used the Euclidean distance which measures a straight line between the query point and the other point being measured.\n",
    "The 'K' hyperparameter defines the number of nearest neighbors to consider when making predictions for a new data point. The choice of 'k' can significantly impact the algorithm's performance.I used k=9, as it gave me the best f1 score, and this means that the algorithm will consider the nine nearest neighbors to the query point and make a prediction. This is likely because it provides a balance between a small and large k value, meaning that my algorithm will not be significantly affected by outliers/noise in the data and will also not oversmooth.\n",
    "</p>"
   ]
  },
  {
   "cell_type": "code",
   "execution_count": null,
   "metadata": {},
   "outputs": [],
   "source": [
    "#import libraries\n",
    "import pandas as pd\n",
    "import numpy as np\n",
    "from sklearn.model_selection import train_test_split\n",
    "from sklearn.neighbors import KNeighborsClassifier\n",
    "from sklearn.metrics import confusion_matrix, f1_score, accuracy_score\n",
    "import math"
   ]
  },
  {
   "cell_type": "code",
   "execution_count": null,
   "metadata": {},
   "outputs": [],
   "source": [
    "# Load the data\n",
    "data = pd.read_csv(\"car.data\")\n",
    "\n",
    "# Replace categorical values with numeric values\n",
    "data['buying'].replace(['vhigh', 'high', 'med', 'low'], [3, 2, 1, 0], inplace=True)\n",
    "data['maint'].replace(['vhigh', 'high', 'med', 'low'], [3, 2, 1, 0], inplace=True)\n",
    "data['doors'].replace('5more', 5, inplace=True)\n",
    "data['persons'].replace('more', 5, inplace=True)\n",
    "data['lug_boot'].replace(['small', 'med', 'big'], [0, 1, 2], inplace=True)\n",
    "data['safety'].replace(['low', 'med', 'high'], [0, 1, 2], inplace=True)\n",
    "data['class'].replace(['unacc', 'acc', 'good', 'vgood'], [0, 1, 2, 3], inplace=True)\n",
    "\n",
    "\n",
    "# Prepare features and target variable\n",
    "X = data.drop(columns=['class'])\n",
    "y = data['class']  # this is our target variable "
   ]
  },
  {
   "cell_type": "code",
   "execution_count": null,
   "metadata": {},
   "outputs": [],
   "source": [
    "\n",
    "# splits the dataset into a test and a train category (currently the split is set at 20%)\n",
    "x_train, x_test, y_train, y_test = train_test_split(X, y, random_state=0, test_size=0.2)\n",
    "\n",
    "# Determine the K value (hyperparameter). This can be altered and can impact the results a lot.\n",
    "k_value = 9"
   ]
  },
  {
   "cell_type": "code",
   "execution_count": null,
   "metadata": {},
   "outputs": [],
   "source": [
    "# Define the model: Initiate K-NN\n",
    "classifier = KNeighborsClassifier(n_neighbors=k_value, p=2, metric='euclidean')\n",
    "classifier.fit(x_train, y_train)"
   ]
  },
  {
   "cell_type": "code",
   "execution_count": null,
   "metadata": {},
   "outputs": [],
   "source": [
    "# Predict the test results\n",
    "y_pred = classifier.predict(x_test)\n",
    "\n",
    "# Evaluate the model\n",
    "cm = confusion_matrix(y_test, y_pred)  #define our confusion matrix\n",
    "print(\"Confusion Matrix:\\n\", cm) #print the confusion matrix\n",
    "print(\"F1 Score:\", f1_score(y_test, y_pred, average='weighted')) # print the f1 score\n",
    "print(\"Accuracy Score:\", accuracy_score(y_test, y_pred)) #print the accuracy score"
   ]
  },
  {
   "cell_type": "markdown",
   "metadata": {},
   "source": [
    "#### Analysis of Results\n",
    "<p>When I run this code, I recieve the following output:\n",
    "\n",
    " [[238   2   0   0]\n",
    " [  3  76   0   0]\n",
    " [  3   3  11   0]\n",
    " [  0   2   0   8]]\n",
    "F1 Score: 0.9607010011196383\n",
    "Accuracy Score: 0.9624277456647399\n",
    "\n",
    "The confusion matrix shows how well the KNN classifier predicted each class. The rows represent true labels, and  columns represent predicted labels. Class 0 is unacc, 1 is acc, 2 is good and 3 is vgood. To make this easier to read, you can represent it as:\n",
    "\n",
    "|                         | **Predicted Class 0** | **Predicted Class 1** | **Predicted Class 2** | **Predicted Class 3** |\n",
    "|-------------------------|-----------------------|-----------------------|-----------------------|-----------------------|\n",
    "| **Actual Class 0**       | 238                   | 2                     | 0                     | 0                     |\n",
    "| **Actual Class 1**       | 3                     | 76                    | 0                     | 0                     |\n",
    "| **Actual Class 2**       | 3                     | 3                     | 11                    | 0                     |\n",
    "| **Actual Class 3**       | 0                     | 2                     | 0                     | 8                     |\n",
    "\n",
    "\n",
    "For example, the top row which represents the class of 'unacc' correctly predicted 238 times (true positives) and wrongly classified as 'acc' twice.\n",
    "\n",
    "Additionally, there is a high F1 Score and Accuracy score, which shows that the model performed very well (a score of 1 is the best) on the given dataset.</p>"
   ]
  }
 ],
 "metadata": {
  "language_info": {
   "name": "python"
  }
 },
 "nbformat": 4,
 "nbformat_minor": 2
}
