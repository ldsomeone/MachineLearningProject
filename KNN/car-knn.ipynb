{
 "cells": [
  {
   "cell_type": "markdown",
   "metadata": {},
   "source": [
    "# Machine Learning\n",
    "## KNN"
   ]
  },
  {
   "cell_type": "code",
   "execution_count": null,
   "metadata": {},
   "outputs": [],
   "source": [
    "#import libraries\n",
    "import pandas as pd\n",
    "import numpy as np\n",
    "from sklearn.model_selection import train_test_split\n",
    "from sklearn.neighbors import KNeighborsClassifier\n",
    "from sklearn.metrics import confusion_matrix, f1_score, accuracy_score\n",
    "import math"
   ]
  },
  {
   "cell_type": "code",
   "execution_count": null,
   "metadata": {},
   "outputs": [],
   "source": [
    "# Load the data\n",
    "data = pd.read_csv(\"car.data\")\n",
    "\n",
    "# Replace categorical values with numeric values\n",
    "data['buying'].replace(['vhigh', 'high', 'med', 'low'], [3, 2, 1, 0], inplace=True)\n",
    "data['maint'].replace(['vhigh', 'high', 'med', 'low'], [3, 2, 1, 0], inplace=True)\n",
    "data['doors'].replace('5more', 5, inplace=True)\n",
    "data['persons'].replace('more', 5, inplace=True)\n",
    "data['lug_boot'].replace(['small', 'med', 'big'], [0, 1, 2], inplace=True)\n",
    "data['safety'].replace(['low', 'med', 'high'], [0, 1, 2], inplace=True)\n",
    "data['class'].replace(['unacc', 'acc', 'good', 'vgood'], [0, 1, 2, 3], inplace=True)\n",
    "\n",
    "\n",
    "# Prepare features and target variable\n",
    "X = data.drop(columns=['class'])\n",
    "y = data['class']  # Target"
   ]
  },
  {
   "cell_type": "code",
   "execution_count": null,
   "metadata": {},
   "outputs": [],
   "source": [
    "\n",
    "# Split the dataset into train and test\n",
    "x_train, x_test, y_train, y_test = train_test_split(X, y, random_state=0, test_size=0.2)\n",
    "\n",
    "# Determine the K value (hyperparameter)\n",
    "k_value = 9"
   ]
  },
  {
   "cell_type": "code",
   "execution_count": null,
   "metadata": {},
   "outputs": [],
   "source": [
    "# Define the model: Initiate K-NN\n",
    "classifier = KNeighborsClassifier(n_neighbors=k_value, p=2, metric='euclidean')\n",
    "classifier.fit(x_train, y_train)"
   ]
  },
  {
   "cell_type": "code",
   "execution_count": null,
   "metadata": {},
   "outputs": [],
   "source": [
    "# Predict the test results\n",
    "y_pred = classifier.predict(x_test)\n",
    "\n",
    "# Evaluate the model\n",
    "cm = confusion_matrix(y_test, y_pred)\n",
    "print(\"Confusion Matrix:\\n\", cm)\n",
    "print(\"F1 Score:\", f1_score(y_test, y_pred, average='weighted'))\n",
    "print(\"Accuracy Score:\", accuracy_score(y_test, y_pred))"
   ]
  }
 ],
 "metadata": {
  "language_info": {
   "name": "python"
  }
 },
 "nbformat": 4,
 "nbformat_minor": 2
}
