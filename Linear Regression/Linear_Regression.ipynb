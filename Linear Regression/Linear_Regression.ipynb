{
 "cells": [
  {
   "cell_type": "code",
   "execution_count": 1,
   "id": "479e94bc-aae3-4fc6-b390-ac8172e9b29a",
   "metadata": {},
   "outputs": [
    {
     "ename": "ModuleNotFoundError",
     "evalue": "No module named 'pandas'",
     "output_type": "error",
     "traceback": [
      "\u001b[1;31m---------------------------------------------------------------------------\u001b[0m",
      "\u001b[1;31mModuleNotFoundError\u001b[0m                       Traceback (most recent call last)",
      "Cell \u001b[1;32mIn[1], line 2\u001b[0m\n\u001b[0;32m      1\u001b[0m \u001b[38;5;66;03m#importing various libraries and related packages required for our prject\u001b[39;00m\n\u001b[1;32m----> 2\u001b[0m \u001b[38;5;28;01mimport\u001b[39;00m \u001b[38;5;21;01mpandas\u001b[39;00m \u001b[38;5;28;01mas\u001b[39;00m \u001b[38;5;21;01mpd\u001b[39;00m \n\u001b[0;32m      3\u001b[0m \u001b[38;5;28;01mimport\u001b[39;00m \u001b[38;5;21;01mnumpy\u001b[39;00m \u001b[38;5;28;01mas\u001b[39;00m \u001b[38;5;21;01mnp\u001b[39;00m \n\u001b[0;32m      4\u001b[0m \u001b[38;5;28;01mimport\u001b[39;00m \u001b[38;5;21;01msklearn\u001b[39;00m\n",
      "\u001b[1;31mModuleNotFoundError\u001b[0m: No module named 'pandas'"
     ]
    }
   ],
   "source": [
    "#importing various libraries and related packages required for our prject\n",
    "import pandas as pd \n",
    "import numpy as np \n",
    "import sklearn\n",
    "import matplotlib.pyplot as pyplot\n",
    "import pickle \n",
    "from sklearn import linear_model\n",
    "from sklearn.utils import shuffle\n",
    "from matplotlib import style\n",
    "\n",
    "\n"
   ]
  },
  {
   "cell_type": "code",
   "execution_count": null,
   "id": "c3a81a71-f2d4-4478-a2df-b091480876e3",
   "metadata": {},
   "outputs": [],
   "source": [
    "#import our data into the data variable\n",
    "data = pd.read_csv(\"forestfires.csv\", sep=\",\") #our data is seperated by commas\n",
    "\n",
    "print(data.head()) #print the first five lines of code"
   ]
  },
  {
   "cell_type": "code",
   "execution_count": null,
   "id": "247842c4-1a7d-4ca3-8f65-b4c611e4c213",
   "metadata": {},
   "outputs": [],
   "source": [
    "#define data as an array, with the specific varaibles\n",
    "data = data[[\"temp\", \"RH\", \"wind\", \"area\", \"FFMC\"]] \n",
    "print(data.head()) #print the first 5 rows of this data set"
   ]
  },
  {
   "cell_type": "code",
   "execution_count": null,
   "id": "f4c06f9d",
   "metadata": {},
   "outputs": [],
   "source": [
    "predict = \"area\" #defining predict variable, initial spread index\n",
    "\n",
    "x = np.array(data.drop(predict, axis=1)) #set the x axis\n",
    "y = np.array(data[predict]) #set the y axis"
   ]
  },
  {
   "cell_type": "code",
   "execution_count": null,
   "id": "c05516f5",
   "metadata": {},
   "outputs": [],
   "source": [
    "#splits the data to test and train it\n",
    "x_train, x_test, y_train, y_test = sklearn.model_selection.train_test_split(x,y,test_size=0.1)\n"
   ]
  },
  {
   "cell_type": "code",
   "execution_count": null,
   "id": "65c04c06",
   "metadata": {},
   "outputs": [],
   "source": [
    "linear = linear_model.LinearRegression()\n",
    "linear.fit(x_train, y_train)\n",
    "acc = linear.score(x_test, y_test)\n",
    "\n",
    "print(acc)"
   ]
  },
  {
   "cell_type": "code",
   "execution_count": null,
   "id": "93684ca2",
   "metadata": {},
   "outputs": [],
   "source": [
    "with open(\"fireprediction.pickle\", \"wb\") as f:\n",
    "    pickle.dump(linear, f)\n",
    "pickle_in = open(\"fireprediction.pickle\", \"rb\")\n",
    "linear = pickle.load(pickle_in)\n",
    "print('coefficient: \\n', linear.coef_)\n",
    "print('Intercept: \\n',  linear.intercept_)"
   ]
  },
  {
   "cell_type": "code",
   "execution_count": null,
   "id": "f539e378",
   "metadata": {},
   "outputs": [],
   "source": [
    "predictions = linear.predict(x_test)\n",
    "for x in range(len(predictions)):\n",
    "    print(predictions[x], x_test[x], y_test[x])"
   ]
  },
  {
   "cell_type": "code",
   "execution_count": null,
   "id": "f5a34cea",
   "metadata": {},
   "outputs": [],
   "source": [
    "#plot the data\n",
    "style.use(\"ggplot\")\n",
    "\n",
    "#set up the scatter plot\n",
    "p=\"temp\"\n",
    "pyplot.scatter(data[p], data[\"area\"])\n",
    "pyplot.xlabel(\"Temperature\") #set the label on the x-axis\n",
    "pyplot.ylabel(\"Area burned(hectares)\") #set the label and the y-axis\n",
    "pyplot.title(\"Scatter Plot of Temperature vs. Burned Area\") #set the title of the chart\n",
    "pyplot.show() #display the graph"
   ]
  }
 ],
 "metadata": {
  "kernelspec": {
   "display_name": "Python 3 (ipykernel)",
   "language": "python",
   "name": "python3"
  },
  "language_info": {
   "codemirror_mode": {
    "name": "ipython",
    "version": 3
   },
   "file_extension": ".py",
   "mimetype": "text/x-python",
   "name": "python",
   "nbconvert_exporter": "python",
   "pygments_lexer": "ipython3",
   "version": "3.12.4"
  }
 },
 "nbformat": 4,
 "nbformat_minor": 5
}
