{
 "cells": [
  {
   "cell_type": "markdown",
   "id": "675b89e9",
   "metadata": {},
   "source": [
    "# Machine Learning\n",
    "## Linear Regression using Scikit-Learn\n",
    "<p>Using a set of data points, linear regression attempts to find a 'line of best fit' through the data. The 'line of best fit' is a corrrelation between the data points. It can then used to predict values of variables. Linear regression works best when there is a strong correlation of data to begin with.\n",
    "Linear equation: y = mx + b, where m is the gradient of the line. For a given x and gradient, y can be predicted.</p>\n",
    "\n",
    "#### Analysis of Results\n",
    "<p>My example of linear regression in the code below aims to predict the area of forest burnt by a fire based of a number of input variables such as temperature, wind and humidity.\n",
    "My code functions well, but I do not get a very strong accuracy (r squared score) when I print it. This indicates that the model explains only a small portion of the variance in the data. In other words, the  linear regression model has limited effectiveness in predicting the area burned in the forest fire dataset. However, this is because the input variables and the area burned variable have little correlation.</p>"
   ]
  },
  {
   "cell_type": "code",
   "execution_count": null,
   "id": "479e94bc-aae3-4fc6-b390-ac8172e9b29a",
   "metadata": {},
   "outputs": [],
   "source": [
    "#importing various libraries and related packages required for our prject\n",
    "import pandas as pd \n",
    "import numpy as np \n",
    "import sklearn\n",
    "import matplotlib.pyplot as pyplot\n",
    "import pickle \n",
    "from sklearn import linear_model\n",
    "from sklearn.utils import shuffle\n",
    "from matplotlib import style\n"
   ]
  },
  {
   "cell_type": "code",
   "execution_count": null,
   "id": "c3a81a71-f2d4-4478-a2df-b091480876e3",
   "metadata": {},
   "outputs": [],
   "source": [
    "#import our data into the data variable\n",
    "data = pd.read_csv(\"forestfires.csv\", sep=\",\") #our data is seperated by commas\n",
    "\n",
    "print(data.head()) #print the first five lines of code"
   ]
  },
  {
   "cell_type": "code",
   "execution_count": null,
   "id": "247842c4-1a7d-4ca3-8f65-b4c611e4c213",
   "metadata": {},
   "outputs": [],
   "source": [
    "#define data as an array, with the specific varaibles\n",
    "data = data[[\"temp\", \"RH\", \"wind\", \"area\", \"FFMC\"]] \n",
    "print(data.head()) #print the first 5 rows of this data set"
   ]
  },
  {
   "cell_type": "code",
   "execution_count": null,
   "id": "f4c06f9d",
   "metadata": {},
   "outputs": [],
   "source": [
    "predict = \"area\" #defining the variable which we will predict \n",
    "\n",
    "x = np.array(data.drop(predict, axis=1)) #set the x axis\n",
    "y = np.array(data[predict]) #set the y axis\n",
    "\n",
    "#splits the data to test and train it\n",
    "x_train, x_test, y_train, y_test = sklearn.model_selection.train_test_split(x,y,test_size=0.1)"
   ]
  },
  {
   "cell_type": "code",
   "execution_count": null,
   "id": "65c04c06",
   "metadata": {},
   "outputs": [],
   "source": [
    "linear = linear_model.LinearRegression()\n",
    "linear.fit(x_train, y_train)  #define the line of best fit for our data \n",
    "acc = linear.score(x_test, y_test)  #define accuracy\n",
    "\n",
    "print(acc) #prints the accuracy of our model"
   ]
  },
  {
   "cell_type": "code",
   "execution_count": null,
   "id": "93684ca2",
   "metadata": {},
   "outputs": [],
   "source": [
    "with open(\"fireprediction.pickle\", \"wb\") as f: # Opens a file in binary write mode\n",
    "    pickle.dump(linear, f)  # Save the 'linear' model into the file\n",
    "\n",
    "\n",
    "pickle_in = open(\"fireprediction.pickle\", \"rb\") # Open the file in binary read mode\n",
    "linear = pickle.load(pickle_in) # Load the model from the file\n",
    "\n",
    "print('coefficient: \\n', linear.coef_) # Print the coefficients of the model\n",
    "print('Intercept: \\n',  linear.intercept_) # Print the intercepts of the model\n"
   ]
  },
  {
   "cell_type": "code",
   "execution_count": null,
   "id": "f539e378",
   "metadata": {},
   "outputs": [],
   "source": [
    "predictions = linear.predict(x_test) # Making predictions using the test data\n",
    "\n",
    "for x in range(len(predictions)): # Loop through the predictions and compare with actual test data\n",
    "    print(predictions[x], x_test[x], y_test[x])  # Print prediction, input data, and actual outcome"
   ]
  },
  {
   "cell_type": "code",
   "execution_count": null,
   "id": "f5a34cea",
   "metadata": {},
   "outputs": [],
   "source": [
    "#plot the data\n",
    "style.use(\"ggplot\")\n",
    "\n",
    "#set up the scatter plot\n",
    "p=\"temp\"\n",
    "pyplot.scatter(data[p], data[\"area\"]) \n",
    "pyplot.xlabel(\"Temperature\") #set the label on the x-axis\n",
    "pyplot.ylabel(\"Area burned(hectares)\") #set the label and the y-axis\n",
    "pyplot.title(\"Predicted Forest Burned Area\") #set the title of the chart\n",
    "pyplot.plot(x_test[:, 0], linear.predict(x_test), color='red')  #plot the line of best fit\n",
    "pyplot.show() #display the graph"
   ]
  }
 ],
 "metadata": {
  "kernelspec": {
   "display_name": "Python 3 (ipykernel)",
   "language": "python",
   "name": "python3"
  },
  "language_info": {
   "codemirror_mode": {
    "name": "ipython",
    "version": 3
   },
   "file_extension": ".py",
   "mimetype": "text/x-python",
   "name": "python",
   "nbconvert_exporter": "python",
   "pygments_lexer": "ipython3",
   "version": "3.12.4"
  }
 },
 "nbformat": 4,
 "nbformat_minor": 5
}
